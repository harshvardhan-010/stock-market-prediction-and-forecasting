{
 "cells": [
  {
   "cell_type": "code",
   "execution_count": 1,
   "id": "be4802ff",
   "metadata": {},
   "outputs": [
    {
     "name": "stdout",
     "output_type": "stream",
     "text": [
      "Collecting pandas-datareader\n",
      "  Downloading pandas_datareader-0.10.0-py3-none-any.whl (109 kB)\n",
      "Requirement already satisfied: lxml in c:\\users\\harshu\\anaconda3\\lib\\site-packages (from pandas-datareader) (4.6.3)\n",
      "Requirement already satisfied: pandas>=0.23 in c:\\users\\harshu\\anaconda3\\lib\\site-packages (from pandas-datareader) (1.3.4)\n",
      "Requirement already satisfied: requests>=2.19.0 in c:\\users\\harshu\\anaconda3\\lib\\site-packages (from pandas-datareader) (2.26.0)\n",
      "Requirement already satisfied: python-dateutil>=2.7.3 in c:\\users\\harshu\\anaconda3\\lib\\site-packages (from pandas>=0.23->pandas-datareader) (2.8.2)\n",
      "Requirement already satisfied: numpy>=1.17.3 in c:\\users\\harshu\\anaconda3\\lib\\site-packages (from pandas>=0.23->pandas-datareader) (1.22.4)\n",
      "Requirement already satisfied: pytz>=2017.3 in c:\\users\\harshu\\anaconda3\\lib\\site-packages (from pandas>=0.23->pandas-datareader) (2021.3)\n",
      "Requirement already satisfied: six>=1.5 in c:\\users\\harshu\\anaconda3\\lib\\site-packages (from python-dateutil>=2.7.3->pandas>=0.23->pandas-datareader) (1.16.0)\n",
      "Requirement already satisfied: idna<4,>=2.5 in c:\\users\\harshu\\anaconda3\\lib\\site-packages (from requests>=2.19.0->pandas-datareader) (3.2)\n",
      "Requirement already satisfied: certifi>=2017.4.17 in c:\\users\\harshu\\anaconda3\\lib\\site-packages (from requests>=2.19.0->pandas-datareader) (2021.10.8)\n",
      "Requirement already satisfied: urllib3<1.27,>=1.21.1 in c:\\users\\harshu\\anaconda3\\lib\\site-packages (from requests>=2.19.0->pandas-datareader) (1.26.7)\n",
      "Requirement already satisfied: charset-normalizer~=2.0.0 in c:\\users\\harshu\\anaconda3\\lib\\site-packages (from requests>=2.19.0->pandas-datareader) (2.0.4)\n",
      "Installing collected packages: pandas-datareader\n",
      "Successfully installed pandas-datareader-0.10.0\n"
     ]
    }
   ],
   "source": [
    "# !pip install pandas-datareader"
   ]
  },
  {
   "cell_type": "code",
   "execution_count": 2,
   "id": "88f45395",
   "metadata": {},
   "outputs": [],
   "source": [
    "import pandas_datareader as pdr"
   ]
  },
  {
   "cell_type": "code",
   "execution_count": 38,
   "id": "7539f838",
   "metadata": {},
   "outputs": [
    {
     "name": "stderr",
     "output_type": "stream",
     "text": [
      "C:\\Users\\HARSHU\\anaconda3\\lib\\site-packages\\pandas_datareader\\tiingo.py:234: FutureWarning: In a future version of pandas all arguments of concat except for the argument 'objs' will be keyword-only\n",
      "  return pd.concat(dfs, self._concat_axis)\n"
     ]
    }
   ],
   "source": [
    "df = pdr.get_data_tiingo('AAPL',api_key='37775c278780da5562b03c23f9d61f4dc2f127da')"
   ]
  },
  {
   "cell_type": "code",
   "execution_count": 39,
   "id": "df88ec78",
   "metadata": {},
   "outputs": [],
   "source": [
    "df.to_csv('D:\\Deep Learning - Self\\Datasets\\AAPL.csv')"
   ]
  },
  {
   "cell_type": "code",
   "execution_count": 7,
   "id": "34694146",
   "metadata": {},
   "outputs": [],
   "source": [
    "import pandas as pd"
   ]
  },
  {
   "cell_type": "code",
   "execution_count": 40,
   "id": "32f89976",
   "metadata": {},
   "outputs": [
    {
     "data": {
      "text/html": [
       "<div>\n",
       "<style scoped>\n",
       "    .dataframe tbody tr th:only-of-type {\n",
       "        vertical-align: middle;\n",
       "    }\n",
       "\n",
       "    .dataframe tbody tr th {\n",
       "        vertical-align: top;\n",
       "    }\n",
       "\n",
       "    .dataframe thead th {\n",
       "        text-align: right;\n",
       "    }\n",
       "</style>\n",
       "<table border=\"1\" class=\"dataframe\">\n",
       "  <thead>\n",
       "    <tr style=\"text-align: right;\">\n",
       "      <th></th>\n",
       "      <th>symbol</th>\n",
       "      <th>date</th>\n",
       "      <th>close</th>\n",
       "      <th>high</th>\n",
       "      <th>low</th>\n",
       "      <th>open</th>\n",
       "      <th>volume</th>\n",
       "      <th>adjClose</th>\n",
       "      <th>adjHigh</th>\n",
       "      <th>adjLow</th>\n",
       "      <th>adjOpen</th>\n",
       "      <th>adjVolume</th>\n",
       "      <th>divCash</th>\n",
       "      <th>splitFactor</th>\n",
       "    </tr>\n",
       "  </thead>\n",
       "  <tbody>\n",
       "    <tr>\n",
       "      <th>0</th>\n",
       "      <td>AAPL</td>\n",
       "      <td>2017-10-09 00:00:00+00:00</td>\n",
       "      <td>155.84</td>\n",
       "      <td>156.73</td>\n",
       "      <td>155.4850</td>\n",
       "      <td>155.810</td>\n",
       "      <td>16200129</td>\n",
       "      <td>36.973561</td>\n",
       "      <td>37.184716</td>\n",
       "      <td>36.889336</td>\n",
       "      <td>36.966443</td>\n",
       "      <td>64800516</td>\n",
       "      <td>0.0</td>\n",
       "      <td>1.0</td>\n",
       "    </tr>\n",
       "    <tr>\n",
       "      <th>1</th>\n",
       "      <td>AAPL</td>\n",
       "      <td>2017-10-10 00:00:00+00:00</td>\n",
       "      <td>155.90</td>\n",
       "      <td>158.00</td>\n",
       "      <td>155.1000</td>\n",
       "      <td>156.055</td>\n",
       "      <td>15456331</td>\n",
       "      <td>36.987796</td>\n",
       "      <td>37.486028</td>\n",
       "      <td>36.797994</td>\n",
       "      <td>37.024570</td>\n",
       "      <td>61825324</td>\n",
       "      <td>0.0</td>\n",
       "      <td>1.0</td>\n",
       "    </tr>\n",
       "    <tr>\n",
       "      <th>2</th>\n",
       "      <td>AAPL</td>\n",
       "      <td>2017-10-11 00:00:00+00:00</td>\n",
       "      <td>156.55</td>\n",
       "      <td>156.98</td>\n",
       "      <td>155.7500</td>\n",
       "      <td>155.970</td>\n",
       "      <td>16607693</td>\n",
       "      <td>37.142011</td>\n",
       "      <td>37.244030</td>\n",
       "      <td>36.952208</td>\n",
       "      <td>37.004404</td>\n",
       "      <td>66430772</td>\n",
       "      <td>0.0</td>\n",
       "      <td>1.0</td>\n",
       "    </tr>\n",
       "    <tr>\n",
       "      <th>3</th>\n",
       "      <td>AAPL</td>\n",
       "      <td>2017-10-12 00:00:00+00:00</td>\n",
       "      <td>156.00</td>\n",
       "      <td>157.37</td>\n",
       "      <td>155.7299</td>\n",
       "      <td>156.350</td>\n",
       "      <td>16045720</td>\n",
       "      <td>37.011522</td>\n",
       "      <td>37.336559</td>\n",
       "      <td>36.947439</td>\n",
       "      <td>37.094560</td>\n",
       "      <td>64182880</td>\n",
       "      <td>0.0</td>\n",
       "      <td>1.0</td>\n",
       "    </tr>\n",
       "    <tr>\n",
       "      <th>4</th>\n",
       "      <td>AAPL</td>\n",
       "      <td>2017-10-13 00:00:00+00:00</td>\n",
       "      <td>156.99</td>\n",
       "      <td>157.28</td>\n",
       "      <td>156.4100</td>\n",
       "      <td>156.730</td>\n",
       "      <td>16287608</td>\n",
       "      <td>37.246402</td>\n",
       "      <td>37.315206</td>\n",
       "      <td>37.108795</td>\n",
       "      <td>37.184716</td>\n",
       "      <td>65150432</td>\n",
       "      <td>0.0</td>\n",
       "      <td>1.0</td>\n",
       "    </tr>\n",
       "  </tbody>\n",
       "</table>\n",
       "</div>"
      ],
      "text/plain": [
       "  symbol                       date   close    high       low     open  \\\n",
       "0   AAPL  2017-10-09 00:00:00+00:00  155.84  156.73  155.4850  155.810   \n",
       "1   AAPL  2017-10-10 00:00:00+00:00  155.90  158.00  155.1000  156.055   \n",
       "2   AAPL  2017-10-11 00:00:00+00:00  156.55  156.98  155.7500  155.970   \n",
       "3   AAPL  2017-10-12 00:00:00+00:00  156.00  157.37  155.7299  156.350   \n",
       "4   AAPL  2017-10-13 00:00:00+00:00  156.99  157.28  156.4100  156.730   \n",
       "\n",
       "     volume   adjClose    adjHigh     adjLow    adjOpen  adjVolume  divCash  \\\n",
       "0  16200129  36.973561  37.184716  36.889336  36.966443   64800516      0.0   \n",
       "1  15456331  36.987796  37.486028  36.797994  37.024570   61825324      0.0   \n",
       "2  16607693  37.142011  37.244030  36.952208  37.004404   66430772      0.0   \n",
       "3  16045720  37.011522  37.336559  36.947439  37.094560   64182880      0.0   \n",
       "4  16287608  37.246402  37.315206  37.108795  37.184716   65150432      0.0   \n",
       "\n",
       "   splitFactor  \n",
       "0          1.0  \n",
       "1          1.0  \n",
       "2          1.0  \n",
       "3          1.0  \n",
       "4          1.0  "
      ]
     },
     "execution_count": 40,
     "metadata": {},
     "output_type": "execute_result"
    }
   ],
   "source": [
    "df = pd.read_csv(r'D:\\Deep Learning - Self\\Datasets\\AAPL.csv')\n",
    "df.head()"
   ]
  },
  {
   "cell_type": "code",
   "execution_count": 41,
   "id": "0ab362bf",
   "metadata": {},
   "outputs": [
    {
     "data": {
      "text/html": [
       "<div>\n",
       "<style scoped>\n",
       "    .dataframe tbody tr th:only-of-type {\n",
       "        vertical-align: middle;\n",
       "    }\n",
       "\n",
       "    .dataframe tbody tr th {\n",
       "        vertical-align: top;\n",
       "    }\n",
       "\n",
       "    .dataframe thead th {\n",
       "        text-align: right;\n",
       "    }\n",
       "</style>\n",
       "<table border=\"1\" class=\"dataframe\">\n",
       "  <thead>\n",
       "    <tr style=\"text-align: right;\">\n",
       "      <th></th>\n",
       "      <th>symbol</th>\n",
       "      <th>date</th>\n",
       "      <th>close</th>\n",
       "      <th>high</th>\n",
       "      <th>low</th>\n",
       "      <th>open</th>\n",
       "      <th>volume</th>\n",
       "      <th>adjClose</th>\n",
       "      <th>adjHigh</th>\n",
       "      <th>adjLow</th>\n",
       "      <th>adjOpen</th>\n",
       "      <th>adjVolume</th>\n",
       "      <th>divCash</th>\n",
       "      <th>splitFactor</th>\n",
       "    </tr>\n",
       "  </thead>\n",
       "  <tbody>\n",
       "    <tr>\n",
       "      <th>1253</th>\n",
       "      <td>AAPL</td>\n",
       "      <td>2022-09-30 00:00:00+00:00</td>\n",
       "      <td>138.20</td>\n",
       "      <td>143.10</td>\n",
       "      <td>138.000</td>\n",
       "      <td>141.280</td>\n",
       "      <td>124925274</td>\n",
       "      <td>138.20</td>\n",
       "      <td>143.10</td>\n",
       "      <td>138.000</td>\n",
       "      <td>141.280</td>\n",
       "      <td>124925274</td>\n",
       "      <td>0.0</td>\n",
       "      <td>1.0</td>\n",
       "    </tr>\n",
       "    <tr>\n",
       "      <th>1254</th>\n",
       "      <td>AAPL</td>\n",
       "      <td>2022-10-03 00:00:00+00:00</td>\n",
       "      <td>142.45</td>\n",
       "      <td>143.07</td>\n",
       "      <td>137.685</td>\n",
       "      <td>138.210</td>\n",
       "      <td>114311663</td>\n",
       "      <td>142.45</td>\n",
       "      <td>143.07</td>\n",
       "      <td>137.685</td>\n",
       "      <td>138.210</td>\n",
       "      <td>114311663</td>\n",
       "      <td>0.0</td>\n",
       "      <td>1.0</td>\n",
       "    </tr>\n",
       "    <tr>\n",
       "      <th>1255</th>\n",
       "      <td>AAPL</td>\n",
       "      <td>2022-10-04 00:00:00+00:00</td>\n",
       "      <td>146.10</td>\n",
       "      <td>146.22</td>\n",
       "      <td>144.260</td>\n",
       "      <td>145.030</td>\n",
       "      <td>87830064</td>\n",
       "      <td>146.10</td>\n",
       "      <td>146.22</td>\n",
       "      <td>144.260</td>\n",
       "      <td>145.030</td>\n",
       "      <td>87830064</td>\n",
       "      <td>0.0</td>\n",
       "      <td>1.0</td>\n",
       "    </tr>\n",
       "    <tr>\n",
       "      <th>1256</th>\n",
       "      <td>AAPL</td>\n",
       "      <td>2022-10-05 00:00:00+00:00</td>\n",
       "      <td>146.40</td>\n",
       "      <td>147.38</td>\n",
       "      <td>143.010</td>\n",
       "      <td>144.075</td>\n",
       "      <td>79470968</td>\n",
       "      <td>146.40</td>\n",
       "      <td>147.38</td>\n",
       "      <td>143.010</td>\n",
       "      <td>144.075</td>\n",
       "      <td>79470968</td>\n",
       "      <td>0.0</td>\n",
       "      <td>1.0</td>\n",
       "    </tr>\n",
       "    <tr>\n",
       "      <th>1257</th>\n",
       "      <td>AAPL</td>\n",
       "      <td>2022-10-06 00:00:00+00:00</td>\n",
       "      <td>145.43</td>\n",
       "      <td>147.54</td>\n",
       "      <td>145.220</td>\n",
       "      <td>145.810</td>\n",
       "      <td>68402169</td>\n",
       "      <td>145.43</td>\n",
       "      <td>147.54</td>\n",
       "      <td>145.220</td>\n",
       "      <td>145.810</td>\n",
       "      <td>68402169</td>\n",
       "      <td>0.0</td>\n",
       "      <td>1.0</td>\n",
       "    </tr>\n",
       "  </tbody>\n",
       "</table>\n",
       "</div>"
      ],
      "text/plain": [
       "     symbol                       date   close    high      low     open  \\\n",
       "1253   AAPL  2022-09-30 00:00:00+00:00  138.20  143.10  138.000  141.280   \n",
       "1254   AAPL  2022-10-03 00:00:00+00:00  142.45  143.07  137.685  138.210   \n",
       "1255   AAPL  2022-10-04 00:00:00+00:00  146.10  146.22  144.260  145.030   \n",
       "1256   AAPL  2022-10-05 00:00:00+00:00  146.40  147.38  143.010  144.075   \n",
       "1257   AAPL  2022-10-06 00:00:00+00:00  145.43  147.54  145.220  145.810   \n",
       "\n",
       "         volume  adjClose  adjHigh   adjLow  adjOpen  adjVolume  divCash  \\\n",
       "1253  124925274    138.20   143.10  138.000  141.280  124925274      0.0   \n",
       "1254  114311663    142.45   143.07  137.685  138.210  114311663      0.0   \n",
       "1255   87830064    146.10   146.22  144.260  145.030   87830064      0.0   \n",
       "1256   79470968    146.40   147.38  143.010  144.075   79470968      0.0   \n",
       "1257   68402169    145.43   147.54  145.220  145.810   68402169      0.0   \n",
       "\n",
       "      splitFactor  \n",
       "1253          1.0  \n",
       "1254          1.0  \n",
       "1255          1.0  \n",
       "1256          1.0  \n",
       "1257          1.0  "
      ]
     },
     "execution_count": 41,
     "metadata": {},
     "output_type": "execute_result"
    }
   ],
   "source": [
    "df.tail()"
   ]
  },
  {
   "cell_type": "code",
   "execution_count": 42,
   "id": "686c7041",
   "metadata": {},
   "outputs": [
    {
     "data": {
      "text/plain": [
       "(1258,)"
      ]
     },
     "execution_count": 42,
     "metadata": {},
     "output_type": "execute_result"
    }
   ],
   "source": [
    "df = df.reset_index()['close']\n",
    "df.shape"
   ]
  },
  {
   "cell_type": "code",
   "execution_count": 32,
   "id": "e54b664e",
   "metadata": {},
   "outputs": [],
   "source": [
    "import matplotlib.pyplot as plt"
   ]
  },
  {
   "cell_type": "code",
   "execution_count": 43,
   "id": "3ae11467",
   "metadata": {},
   "outputs": [
    {
     "data": {
      "image/png": "[encoded data removed]",
      "text/plain": [
       "<Figure size 432x288 with 1 Axes>"
      ]
     },
     "metadata": {
      "needs_background": "light"
     },
     "output_type": "display_data"
    }
   ],
   "source": [
    "plt.plot(df);"
   ]
  },
  {
   "cell_type": "markdown",
   "id": "f155eccb",
   "metadata": {},
   "source": [
    "##### LSTM is sensitive when it comes to the Scaling of the data, Therefore we apply MinMax Scalar\n",
    "##### we'll be transforming 'close' feature between 0 to 1"
   ]
  },
  {
   "cell_type": "code",
   "execution_count": 44,
   "id": "12d8ae92",
   "metadata": {},
   "outputs": [],
   "source": [
    "import numpy as np\n",
    "from sklearn.preprocessing import MinMaxScaler"
   ]
  },
  {
   "cell_type": "code",
   "execution_count": 51,
   "id": "458a04c5",
   "metadata": {},
   "outputs": [
    {
     "name": "stdout",
     "output_type": "stream",
     "text": [
      "<class 'pandas.core.series.Series'>\n",
      "0       155.84\n",
      "1       155.90\n",
      "2       156.55\n",
      "3       156.00\n",
      "4       156.99\n",
      "         ...  \n",
      "1253    138.20\n",
      "1254    142.45\n",
      "1255    146.10\n",
      "1256    146.40\n",
      "1257    145.43\n",
      "Name: close, Length: 1258, dtype: float64\n"
     ]
    }
   ],
   "source": [
    "print(type(df))\n",
    "print(df)"
   ]
  },
  {
   "cell_type": "code",
   "execution_count": 55,
   "id": "f44dac0c",
   "metadata": {},
   "outputs": [],
   "source": [
    "scaler = MinMaxScaler(feature_range=(0,1))\n",
    "df1 = scaler.fit_transform(np.array(df).reshape(-1,1))"
   ]
  },
  {
   "cell_type": "code",
   "execution_count": 54,
   "id": "ef0713a5",
   "metadata": {
    "scrolled": true
   },
   "outputs": [
    {
     "name": "stdout",
     "output_type": "stream",
     "text": [
      "<class 'numpy.ndarray'>\n",
      "[[0.12273012]\n",
      " [0.1228804 ]\n",
      " [0.12450845]\n",
      " ...\n",
      " [0.09833438]\n",
      " [0.09908579]\n",
      " [0.09665623]]\n"
     ]
    }
   ],
   "source": [
    "print(type(df1))\n",
    "print(df1)"
   ]
  },
  {
   "cell_type": "code",
   "execution_count": 56,
   "id": "8c194e02",
   "metadata": {},
   "outputs": [
    {
     "data": {
      "text/plain": [
       "(1258, 1)"
      ]
     },
     "execution_count": 56,
     "metadata": {},
     "output_type": "execute_result"
    }
   ],
   "source": [
    "df1.shape"
   ]
  },
  {
   "cell_type": "markdown",
   "id": "63b4b5da",
   "metadata": {},
   "source": [
    "##### Data Preprocessing -- Train-Test Split"
   ]
  },
  {
   "cell_type": "code",
   "execution_count": 57,
   "id": "6d7a21c7",
   "metadata": {},
   "outputs": [
    {
     "name": "stdout",
     "output_type": "stream",
     "text": [
      "Last 30% of the Time Series starts from 880 to 1258\n"
     ]
    }
   ],
   "source": [
    "print('Last 30% of the Time Series starts from {} to {}'.format(int(df1.shape[0]-(df1.shape[0]*0.3)),df.shape[0]))"
   ]
  },
  {
   "cell_type": "code",
   "execution_count": 63,
   "id": "3e3667f8",
   "metadata": {},
   "outputs": [],
   "source": [
    "## For training data\n",
    "train_data = df1[:880,:]\n",
    "\n",
    "## for testing data\n",
    "test_data = df1[880:,:]"
   ]
  },
  {
   "cell_type": "code",
   "execution_count": 64,
   "id": "d61bfdd9",
   "metadata": {},
   "outputs": [
    {
     "name": "stdout",
     "output_type": "stream",
     "text": [
      "(880, 1)\n",
      "(378, 1)\n"
     ]
    }
   ],
   "source": [
    "print(train_data.shape)\n",
    "print(test_data.shape)"
   ]
  },
  {
   "cell_type": "code",
   "execution_count": 128,
   "id": "355436e7",
   "metadata": {},
   "outputs": [],
   "source": [
    "## convert an array of values into a dataset matrix based on the timesteps\n",
    "\n",
    "## for example let's say my train data set is [120,126,124,129,136,130,139,145,.....] and \n",
    "## my test data set is [178,176,173,180,178,183,180,179,....]\n",
    "## If my timestep = 5 ... then X_train[0] = 120,126,124,129,136 and y_train = 130\n",
    "##                              X_train[1] = 126,124,129,136,130 and y_train = 139\n",
    "##                              X_train[2] = 124,129,136,130,139 and y_train = 145 .... and so on\n",
    "## similarly X_test[0] = 178,176,173,180,178 and y_test[0] = 183\n",
    "##           X_test[1] = 176,173,180,178,183 and y_test[1] = 180\n",
    "##           X_test[2] = 173,180,178,183,180 and y_test[2] = 179 ..... and so on\n",
    "\n",
    "def create_dataset(dataset,time_step):\n",
    "    dataX = []\n",
    "    dataY = []\n",
    "    for i in range(len(dataset)-time_step):\n",
    "        dataX.append(dataset[i:(i+time_step),0])\n",
    "        dataY.append(dataset[i+time_step,0])\n",
    "    return np.array(dataX),np.array(dataY)"
   ]
  },
  {
   "cell_type": "code",
   "execution_count": 129,
   "id": "9cfc7d66",
   "metadata": {},
   "outputs": [],
   "source": [
    "## taking 'time_step' = 50\n",
    "X_train,y_train = create_dataset(train_data,time_step=50)\n",
    "X_test,y_test = create_dataset(test_data,time_step=50)"
   ]
  },
  {
   "cell_type": "code",
   "execution_count": 130,
   "id": "987ce126",
   "metadata": {},
   "outputs": [
    {
     "name": "stdout",
     "output_type": "stream",
     "text": [
      "(830, 50)\n",
      "(328, 50)\n",
      "(830,)\n",
      "(328,)\n"
     ]
    }
   ],
   "source": [
    "print(X_train.shape)\n",
    "print(X_test.shape)\n",
    "print(y_train.shape)\n",
    "print(y_test.shape)"
   ]
  },
  {
   "cell_type": "code",
   "execution_count": 136,
   "id": "307b3e0c",
   "metadata": {},
   "outputs": [
    {
     "name": "stdout",
     "output_type": "stream",
     "text": [
      "(830, 50, 1)\n",
      "(328, 50, 1)\n"
     ]
    }
   ],
   "source": [
    "## reshaping the X_train & X_test in 3D array (samples, timestep, feature) which is required for LSTM\n",
    "X_train = X_train.reshape(X_train.shape[0],X_train.shape[1],1)\n",
    "X_test = X_test.reshape(X_test.shape[0],X_test.shape[1],1)\n",
    "\n",
    "print(X_train.shape)\n",
    "print(X_test.shape)"
   ]
  },
  {
   "cell_type": "code",
   "execution_count": 139,
   "id": "c86626cf",
   "metadata": {},
   "outputs": [],
   "source": [
    "## Create a Stacked LSTM Model\n",
    "\n",
    "from tensorflow.keras.models import Sequential\n",
    "from tensorflow.keras.layers import LSTM, Dense"
   ]
  },
  {
   "cell_type": "code",
   "execution_count": 140,
   "id": "7fda4d10",
   "metadata": {},
   "outputs": [
    {
     "name": "stdout",
     "output_type": "stream",
     "text": [
      "Model: \"sequential\"\n",
      "_________________________________________________________________\n",
      " Layer (type)                Output Shape              Param #   \n",
      "=================================================================\n",
      " lstm (LSTM)                 (None, 50, 35)            5180      \n",
      "                                                                 \n",
      " lstm_1 (LSTM)               (None, 50, 30)            7920      \n",
      "                                                                 \n",
      " lstm_2 (LSTM)               (None, 40)                11360     \n",
      "                                                                 \n",
      " dense (Dense)               (None, 1)                 41        \n",
      "                                                                 \n",
      "=================================================================\n",
      "Total params: 24,501\n",
      "Trainable params: 24,501\n",
      "Non-trainable params: 0\n",
      "_________________________________________________________________\n"
     ]
    }
   ],
   "source": [
    "model = Sequential()\n",
    "model.add(LSTM(35,return_sequences=True,input_shape=(50,1)))\n",
    "model.add(LSTM(30,return_sequences=True))\n",
    "model.add(LSTM(40))\n",
    "model.add(Dense(1))\n",
    "model.compile(loss='mean_squared_error',optimizer='adam')\n",
    "\n",
    "model.summary()"
   ]
  },
  {
   "cell_type": "code",
   "execution_count": 141,
   "id": "dc623272",
   "metadata": {},
   "outputs": [
    {
     "name": "stdout",
     "output_type": "stream",
     "text": [
      "Epoch 1/100\n",
      "13/13 - 9s - loss: 0.0451 - val_loss: 0.0044 - 9s/epoch - 661ms/step\n",
      "Epoch 2/100\n",
      "13/13 - 1s - loss: 0.0201 - val_loss: 0.0063 - 818ms/epoch - 63ms/step\n",
      "Epoch 3/100\n",
      "13/13 - 1s - loss: 0.0132 - val_loss: 0.0011 - 800ms/epoch - 62ms/step\n",
      "Epoch 4/100\n",
      "13/13 - 1s - loss: 0.0096 - val_loss: 7.1756e-04 - 814ms/epoch - 63ms/step\n",
      "Epoch 5/100\n",
      "13/13 - 1s - loss: 0.0087 - val_loss: 3.7981e-04 - 767ms/epoch - 59ms/step\n",
      "Epoch 6/100\n",
      "13/13 - 1s - loss: 0.0080 - val_loss: 3.4713e-04 - 778ms/epoch - 60ms/step\n",
      "Epoch 7/100\n",
      "13/13 - 1s - loss: 0.0075 - val_loss: 3.7615e-04 - 806ms/epoch - 62ms/step\n",
      "Epoch 8/100\n",
      "13/13 - 1s - loss: 0.0071 - val_loss: 3.2291e-04 - 766ms/epoch - 59ms/step\n",
      "Epoch 9/100\n",
      "13/13 - 1s - loss: 0.0064 - val_loss: 5.2708e-04 - 787ms/epoch - 61ms/step\n",
      "Epoch 10/100\n",
      "13/13 - 1s - loss: 0.0060 - val_loss: 3.3096e-04 - 799ms/epoch - 61ms/step\n",
      "Epoch 11/100\n",
      "13/13 - 1s - loss: 0.0054 - val_loss: 0.0015 - 769ms/epoch - 59ms/step\n",
      "Epoch 12/100\n",
      "13/13 - 1s - loss: 0.0054 - val_loss: 5.1767e-04 - 767ms/epoch - 59ms/step\n",
      "Epoch 13/100\n",
      "13/13 - 1s - loss: 0.0045 - val_loss: 3.1886e-04 - 801ms/epoch - 62ms/step\n",
      "Epoch 14/100\n",
      "13/13 - 1s - loss: 0.0042 - val_loss: 3.8879e-04 - 753ms/epoch - 58ms/step\n",
      "Epoch 15/100\n",
      "13/13 - 1s - loss: 0.0038 - val_loss: 3.7138e-04 - 777ms/epoch - 60ms/step\n",
      "Epoch 16/100\n",
      "13/13 - 1s - loss: 0.0038 - val_loss: 3.8163e-04 - 773ms/epoch - 59ms/step\n",
      "Epoch 17/100\n",
      "13/13 - 1s - loss: 0.0034 - val_loss: 3.1581e-04 - 801ms/epoch - 62ms/step\n",
      "Epoch 18/100\n",
      "13/13 - 1s - loss: 0.0032 - val_loss: 3.7135e-04 - 785ms/epoch - 60ms/step\n",
      "Epoch 19/100\n",
      "13/13 - 1s - loss: 0.0031 - val_loss: 4.5375e-04 - 782ms/epoch - 60ms/step\n",
      "Epoch 20/100\n",
      "13/13 - 1s - loss: 0.0030 - val_loss: 2.8695e-04 - 816ms/epoch - 63ms/step\n",
      "Epoch 21/100\n",
      "13/13 - 1s - loss: 0.0028 - val_loss: 3.2805e-04 - 801ms/epoch - 62ms/step\n",
      "Epoch 22/100\n",
      "13/13 - 1s - loss: 0.0030 - val_loss: 4.3829e-04 - 782ms/epoch - 60ms/step\n",
      "Epoch 23/100\n",
      "13/13 - 1s - loss: 0.0032 - val_loss: 2.7116e-04 - 796ms/epoch - 61ms/step\n",
      "Epoch 24/100\n",
      "13/13 - 1s - loss: 0.0025 - val_loss: 3.9486e-04 - 756ms/epoch - 58ms/step\n",
      "Epoch 25/100\n",
      "13/13 - 1s - loss: 0.0028 - val_loss: 2.4745e-04 - 769ms/epoch - 59ms/step\n",
      "Epoch 26/100\n",
      "13/13 - 1s - loss: 0.0022 - val_loss: 2.6695e-04 - 831ms/epoch - 64ms/step\n",
      "Epoch 27/100\n",
      "13/13 - 1s - loss: 0.0025 - val_loss: 5.1170e-04 - 830ms/epoch - 64ms/step\n",
      "Epoch 28/100\n",
      "13/13 - 1s - loss: 0.0034 - val_loss: 2.3224e-04 - 706ms/epoch - 54ms/step\n",
      "Epoch 29/100\n",
      "13/13 - 1s - loss: 0.0029 - val_loss: 2.4381e-04 - 768ms/epoch - 59ms/step\n",
      "Epoch 30/100\n",
      "13/13 - 1s - loss: 0.0023 - val_loss: 5.3126e-04 - 753ms/epoch - 58ms/step\n",
      "Epoch 31/100\n",
      "13/13 - 1s - loss: 0.0023 - val_loss: 3.2206e-04 - 782ms/epoch - 60ms/step\n",
      "Epoch 32/100\n",
      "13/13 - 1s - loss: 0.0030 - val_loss: 5.3704e-04 - 802ms/epoch - 62ms/step\n",
      "Epoch 33/100\n",
      "13/13 - 1s - loss: 0.0025 - val_loss: 2.5317e-04 - 799ms/epoch - 61ms/step\n",
      "Epoch 34/100\n",
      "13/13 - 1s - loss: 0.0026 - val_loss: 2.7154e-04 - 784ms/epoch - 60ms/step\n",
      "Epoch 35/100\n",
      "13/13 - 1s - loss: 0.0023 - val_loss: 2.4014e-04 - 784ms/epoch - 60ms/step\n",
      "Epoch 36/100\n",
      "13/13 - 1s - loss: 0.0023 - val_loss: 2.4349e-04 - 770ms/epoch - 59ms/step\n",
      "Epoch 37/100\n",
      "13/13 - 1s - loss: 0.0020 - val_loss: 2.3625e-04 - 756ms/epoch - 58ms/step\n",
      "Epoch 38/100\n",
      "13/13 - 1s - loss: 0.0019 - val_loss: 2.2586e-04 - 842ms/epoch - 65ms/step\n",
      "Epoch 39/100\n",
      "13/13 - 1s - loss: 0.0019 - val_loss: 3.1993e-04 - 750ms/epoch - 58ms/step\n",
      "Epoch 40/100\n",
      "13/13 - 1s - loss: 0.0021 - val_loss: 3.0976e-04 - 784ms/epoch - 60ms/step\n",
      "Epoch 41/100\n",
      "13/13 - 1s - loss: 0.0019 - val_loss: 2.4617e-04 - 747ms/epoch - 57ms/step\n",
      "Epoch 42/100\n",
      "13/13 - 1s - loss: 0.0024 - val_loss: 3.9119e-04 - 789ms/epoch - 61ms/step\n",
      "Epoch 43/100\n",
      "13/13 - 1s - loss: 0.0023 - val_loss: 2.4237e-04 - 768ms/epoch - 59ms/step\n",
      "Epoch 44/100\n",
      "13/13 - 1s - loss: 0.0020 - val_loss: 2.6500e-04 - 791ms/epoch - 61ms/step\n",
      "Epoch 45/100\n",
      "13/13 - 1s - loss: 0.0019 - val_loss: 5.1833e-04 - 777ms/epoch - 60ms/step\n",
      "Epoch 46/100\n",
      "13/13 - 1s - loss: 0.0018 - val_loss: 2.4368e-04 - 784ms/epoch - 60ms/step\n",
      "Epoch 47/100\n",
      "13/13 - 1s - loss: 0.0018 - val_loss: 3.9399e-04 - 801ms/epoch - 62ms/step\n",
      "Epoch 48/100\n",
      "13/13 - 1s - loss: 0.0024 - val_loss: 7.3812e-04 - 816ms/epoch - 63ms/step\n",
      "Epoch 49/100\n",
      "13/13 - 1s - loss: 0.0018 - val_loss: 3.1237e-04 - 814ms/epoch - 63ms/step\n",
      "Epoch 50/100\n",
      "13/13 - 1s - loss: 0.0018 - val_loss: 2.9124e-04 - 817ms/epoch - 63ms/step\n",
      "Epoch 51/100\n",
      "13/13 - 1s - loss: 0.0019 - val_loss: 3.5098e-04 - 814ms/epoch - 63ms/step\n",
      "Epoch 52/100\n",
      "13/13 - 1s - loss: 0.0019 - val_loss: 2.3155e-04 - 790ms/epoch - 61ms/step\n",
      "Epoch 53/100\n",
      "13/13 - 1s - loss: 0.0020 - val_loss: 2.9628e-04 - 762ms/epoch - 59ms/step\n",
      "Epoch 54/100\n",
      "13/13 - 1s - loss: 0.0017 - val_loss: 2.3594e-04 - 785ms/epoch - 60ms/step\n",
      "Epoch 55/100\n",
      "13/13 - 1s - loss: 0.0022 - val_loss: 3.5189e-04 - 721ms/epoch - 55ms/step\n",
      "Epoch 56/100\n",
      "13/13 - 1s - loss: 0.0016 - val_loss: 3.5729e-04 - 768ms/epoch - 59ms/step\n",
      "Epoch 57/100\n",
      "13/13 - 1s - loss: 0.0017 - val_loss: 2.2347e-04 - 784ms/epoch - 60ms/step\n",
      "Epoch 58/100\n",
      "13/13 - 1s - loss: 0.0017 - val_loss: 4.2967e-04 - 803ms/epoch - 62ms/step\n",
      "Epoch 59/100\n",
      "13/13 - 1s - loss: 0.0015 - val_loss: 2.5486e-04 - 750ms/epoch - 58ms/step\n",
      "Epoch 60/100\n",
      "13/13 - 1s - loss: 0.0016 - val_loss: 2.4743e-04 - 768ms/epoch - 59ms/step\n",
      "Epoch 61/100\n",
      "13/13 - 1s - loss: 0.0020 - val_loss: 3.0707e-04 - 769ms/epoch - 59ms/step\n",
      "Epoch 62/100\n",
      "13/13 - 1s - loss: 0.0016 - val_loss: 3.0271e-04 - 782ms/epoch - 60ms/step\n",
      "Epoch 63/100\n",
      "13/13 - 1s - loss: 0.0025 - val_loss: 2.6066e-04 - 755ms/epoch - 58ms/step\n",
      "Epoch 64/100\n",
      "13/13 - 1s - loss: 0.0020 - val_loss: 2.3594e-04 - 798ms/epoch - 61ms/step\n",
      "Epoch 65/100\n",
      "13/13 - 1s - loss: 0.0017 - val_loss: 2.3451e-04 - 864ms/epoch - 66ms/step\n",
      "Epoch 66/100\n",
      "13/13 - 1s - loss: 0.0019 - val_loss: 3.6589e-04 - 784ms/epoch - 60ms/step\n",
      "Epoch 67/100\n",
      "13/13 - 1s - loss: 0.0020 - val_loss: 2.4139e-04 - 783ms/epoch - 60ms/step\n",
      "Epoch 68/100\n",
      "13/13 - 1s - loss: 0.0016 - val_loss: 2.4781e-04 - 767ms/epoch - 59ms/step\n",
      "Epoch 69/100\n",
      "13/13 - 1s - loss: 0.0015 - val_loss: 3.3265e-04 - 771ms/epoch - 59ms/step\n",
      "Epoch 70/100\n",
      "13/13 - 1s - loss: 0.0016 - val_loss: 2.2673e-04 - 750ms/epoch - 58ms/step\n",
      "Epoch 71/100\n",
      "13/13 - 1s - loss: 0.0024 - val_loss: 3.0370e-04 - 786ms/epoch - 60ms/step\n",
      "Epoch 72/100\n",
      "13/13 - 1s - loss: 0.0018 - val_loss: 2.2955e-04 - 752ms/epoch - 58ms/step\n",
      "Epoch 73/100\n",
      "13/13 - 1s - loss: 0.0029 - val_loss: 4.4074e-04 - 767ms/epoch - 59ms/step\n",
      "Epoch 74/100\n",
      "13/13 - 1s - loss: 0.0018 - val_loss: 2.6459e-04 - 786ms/epoch - 60ms/step\n",
      "Epoch 75/100\n",
      "13/13 - 1s - loss: 0.0017 - val_loss: 3.8819e-04 - 783ms/epoch - 60ms/step\n",
      "Epoch 76/100\n",
      "13/13 - 1s - loss: 0.0018 - val_loss: 3.1070e-04 - 785ms/epoch - 60ms/step\n",
      "Epoch 77/100\n",
      "13/13 - 1s - loss: 0.0015 - val_loss: 2.1837e-04 - 767ms/epoch - 59ms/step\n",
      "Epoch 78/100\n",
      "13/13 - 1s - loss: 0.0016 - val_loss: 3.7499e-04 - 785ms/epoch - 60ms/step\n",
      "Epoch 79/100\n",
      "13/13 - 1s - loss: 0.0018 - val_loss: 3.7687e-04 - 768ms/epoch - 59ms/step\n",
      "Epoch 80/100\n",
      "13/13 - 1s - loss: 0.0016 - val_loss: 3.5285e-04 - 754ms/epoch - 58ms/step\n",
      "Epoch 81/100\n",
      "13/13 - 1s - loss: 0.0014 - val_loss: 2.6631e-04 - 782ms/epoch - 60ms/step\n",
      "Epoch 82/100\n",
      "13/13 - 1s - loss: 0.0014 - val_loss: 2.6996e-04 - 785ms/epoch - 60ms/step\n",
      "Epoch 83/100\n",
      "13/13 - 1s - loss: 0.0016 - val_loss: 2.1518e-04 - 755ms/epoch - 58ms/step\n",
      "Epoch 84/100\n",
      "13/13 - 1s - loss: 0.0015 - val_loss: 3.1549e-04 - 781ms/epoch - 60ms/step\n",
      "Epoch 85/100\n",
      "13/13 - 1s - loss: 0.0015 - val_loss: 2.6574e-04 - 799ms/epoch - 61ms/step\n",
      "Epoch 86/100\n",
      "13/13 - 1s - loss: 0.0016 - val_loss: 2.2072e-04 - 807ms/epoch - 62ms/step\n",
      "Epoch 87/100\n",
      "13/13 - 1s - loss: 0.0017 - val_loss: 2.1876e-04 - 825ms/epoch - 63ms/step\n",
      "Epoch 88/100\n",
      "13/13 - 1s - loss: 0.0017 - val_loss: 2.9341e-04 - 754ms/epoch - 58ms/step\n",
      "Epoch 89/100\n",
      "13/13 - 1s - loss: 0.0019 - val_loss: 2.5342e-04 - 773ms/epoch - 59ms/step\n",
      "Epoch 90/100\n",
      "13/13 - 1s - loss: 0.0016 - val_loss: 3.4444e-04 - 776ms/epoch - 60ms/step\n",
      "Epoch 91/100\n",
      "13/13 - 1s - loss: 0.0022 - val_loss: 2.3949e-04 - 768ms/epoch - 59ms/step\n",
      "Epoch 92/100\n",
      "13/13 - 1s - loss: 0.0014 - val_loss: 2.6195e-04 - 768ms/epoch - 59ms/step\n",
      "Epoch 93/100\n",
      "13/13 - 1s - loss: 0.0015 - val_loss: 2.2065e-04 - 770ms/epoch - 59ms/step\n",
      "Epoch 94/100\n",
      "13/13 - 1s - loss: 0.0013 - val_loss: 2.3219e-04 - 767ms/epoch - 59ms/step\n"
     ]
    },
    {
     "name": "stdout",
     "output_type": "stream",
     "text": [
      "Epoch 95/100\n",
      "13/13 - 1s - loss: 0.0016 - val_loss: 2.6083e-04 - 785ms/epoch - 60ms/step\n",
      "Epoch 96/100\n",
      "13/13 - 1s - loss: 0.0013 - val_loss: 2.6697e-04 - 768ms/epoch - 59ms/step\n",
      "Epoch 97/100\n",
      "13/13 - 1s - loss: 0.0014 - val_loss: 2.5736e-04 - 770ms/epoch - 59ms/step\n",
      "Epoch 98/100\n",
      "13/13 - 1s - loss: 0.0013 - val_loss: 2.4867e-04 - 767ms/epoch - 59ms/step\n",
      "Epoch 99/100\n",
      "13/13 - 1s - loss: 0.0014 - val_loss: 2.2564e-04 - 770ms/epoch - 59ms/step\n",
      "Epoch 100/100\n",
      "13/13 - 1s - loss: 0.0012 - val_loss: 2.3883e-04 - 767ms/epoch - 59ms/step\n"
     ]
    },
    {
     "data": {
      "text/plain": [
       "<keras.callbacks.History at 0x181dae26c70>"
      ]
     },
     "execution_count": 141,
     "metadata": {},
     "output_type": "execute_result"
    }
   ],
   "source": [
    "model.fit(X_train,y_train,validation_data=(X_test,y_test),epochs=100,batch_size=64,verbose=2)"
   ]
  },
  {
   "cell_type": "code",
   "execution_count": 142,
   "id": "3bd75cb9",
   "metadata": {},
   "outputs": [
    {
     "name": "stdout",
     "output_type": "stream",
     "text": [
      "26/26 [==============================] - 1s 22ms/step\n",
      "11/11 [==============================] - 0s 15ms/step\n"
     ]
    }
   ],
   "source": [
    "## Prediction and Check Performance\n",
    "\n",
    "train_predict = model.predict(X_train)\n",
    "test_predict = model.predict(X_test)"
   ]
  },
  {
   "cell_type": "code",
   "execution_count": 143,
   "id": "8b5a7ef2",
   "metadata": {},
   "outputs": [],
   "source": [
    "## Transforming the data back to original form\n",
    "train_predict = scaler.inverse_transform(train_predict)\n",
    "test_predict = scaler.inverse_transform(test_predict)"
   ]
  },
  {
   "cell_type": "code",
   "execution_count": 144,
   "id": "e3769838",
   "metadata": {},
   "outputs": [
    {
     "name": "stdout",
     "output_type": "stream",
     "text": [
      "Train Data RMSE:  229.6572337218724\n",
      "Test Data RMSE:  156.5546176541894\n"
     ]
    }
   ],
   "source": [
    "## Calculating RMSE\n",
    "from sklearn.metrics import mean_squared_error\n",
    "\n",
    "## train data RMSE\n",
    "print('Train Data RMSE: ',np.sqrt(mean_squared_error(y_train,train_predict)))\n",
    "print('Test Data RMSE: ',np.sqrt(mean_squared_error(y_test,test_predict)))"
   ]
  },
  {
   "cell_type": "code",
   "execution_count": 182,
   "id": "8d0bdc26",
   "metadata": {
    "scrolled": true
   },
   "outputs": [],
   "source": [
    "## we know that we've taken 'time_step' = 50\n",
    "## also 'train_data' & 'test_data' are Standardized whereas 'train_predict' & 'test_predict' are transformed\n",
    "\n",
    "timestep = 50\n",
    "trainPredictplot = np.empty_like(df1) ## copy the dataframe just like 'df1'\n",
    "trainPredictplot[:,:] = np.nan\n",
    "\n",
    "testPredictplot = np.empty_like(df1)\n",
    "testPredictplot[:,:] = np.nan"
   ]
  },
  {
   "cell_type": "code",
   "execution_count": 181,
   "id": "33687aa2",
   "metadata": {},
   "outputs": [
    {
     "data": {
      "text/plain": [
       "830"
      ]
     },
     "execution_count": 181,
     "metadata": {},
     "output_type": "execute_result"
    }
   ],
   "source": [
    "len(train_predict)"
   ]
  },
  {
   "cell_type": "code",
   "execution_count": 186,
   "id": "5bc60041",
   "metadata": {},
   "outputs": [],
   "source": [
    "trainPredictplot[timestep:len(train_predict)+timestep,:] = train_predict\n",
    "testPredictplot[len(train_predict)+(timestep*2):len(df1), :] = test_predict"
   ]
  },
  {
   "cell_type": "code",
   "execution_count": 180,
   "id": "6193dfb6",
   "metadata": {},
   "outputs": [
    {
     "data": {
      "text/plain": [
       "(880, 1)"
      ]
     },
     "execution_count": 180,
     "metadata": {},
     "output_type": "execute_result"
    }
   ],
   "source": [
    "train_data.shape\n",
    "#X_train.shape"
   ]
  },
  {
   "cell_type": "code",
   "execution_count": 201,
   "id": "384d9006",
   "metadata": {},
   "outputs": [
    {
     "data": {
      "image/png": "[encoded data removed]",
      "text/plain": [
       "<Figure size 1080x504 with 1 Axes>"
      ]
     },
     "metadata": {
      "needs_background": "light"
     },
     "output_type": "display_data"
    }
   ],
   "source": [
    "plt.figure(figsize=(15,7))\n",
    "plt.plot(scaler.inverse_transform(df1))\n",
    "plt.plot(trainPredictplot)\n",
    "plt.plot(testPredictplot)\n",
    "plt.legend(['actual','trainPredict','testPredict']);"
   ]
  },
  {
   "cell_type": "code",
   "execution_count": null,
   "id": "bcb765d4",
   "metadata": {},
   "outputs": [],
   "source": []
  },
  {
   "cell_type": "code",
   "execution_count": null,
   "id": "6e713cce",
   "metadata": {},
   "outputs": [],
   "source": []
  }
 ],
 "metadata": {
  "kernelspec": {
   "display_name": "Python 3 (ipykernel)",
   "language": "python",
   "name": "python3"
  },
  "language_info": {
   "codemirror_mode": {
    "name": "ipython",
    "version": 3
   },
   "file_extension": ".py",
   "mimetype": "text/x-python",
   "name": "python",
   "nbconvert_exporter": "python",
   "pygments_lexer": "ipython3",
   "version": "3.9.7"
  }
 },
 "nbformat": 4,
 "nbformat_minor": 5
}
